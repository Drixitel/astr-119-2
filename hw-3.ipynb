{
 "cells": [
  {
   "cell_type": "code",
   "execution_count": null,
   "metadata": {},
   "outputs": [],
   "source": [
    "%matplotlib inline \n",
    "import numpy as np \n",
    "import matplotlib.pyplot as plt "
   ]
  },
  {
   "cell_type": "code",
   "execution_count": null,
   "metadata": {},
   "outputs": [],
   "source": [
    "#x = np.arange(0,2.0*np.pi,2.0*np.pi/float(1000-1),dtype=float) # just use lin space \n",
    "\n",
    "x = np.linspace(0,2.0*np.pi, 1000)      #linspance(start,stop,amount of elements)\n",
    "\n",
    "y = (5.5*np.cos(2*x))+5.5               #array transformation \n",
    "z = 0.02*np.exp(x)                      #array transformation\n",
    "r = (0.25*(x**2)) + (0.1*np.sin(10*x))  #array transformation\n",
    "\n",
    "\n",
    "plt.yticks(np.arange(-1,11,11/6))       #adjust the ticks, to show [-1,10]\n",
    "\n",
    "#plt.axis([0,2*np.pi,-1,10])\n",
    "\n",
    "plt.xlim([0,2*np.pi])                   #domain  \n",
    "plt.ylim([-1,10])                       #range \n",
    "\n",
    "\n",
    "plt.plot(x,y, label ='y(x)')            #plot label the y(x) array \n",
    "plt.plot(x,z, label= 'z(x)')            #plot label the z(x) array \n",
    "plt.plot(x,r, label= 'r(x)')            #plot label the r(x) array \n",
    "\n",
    "\n",
    "plt.xlabel('Time in ASTR 119')          #label the x axis \n",
    "plt.ylabel('Measures of Awesomeness')   #label the y axis \n",
    "\n",
    "\n",
    "#plt.legend(loc=1,framealpha=1)  \n",
    "\n",
    "plt.gca().set_aspect((2*np.pi)/11)      #adjust the ratio so the image is a square \n",
    "\n",
    "#plt.grid(True)\n",
    "\n",
    "#plt.savefig('hw_3.png',bbox_inches='tight',dpi=300)"
   ]
  }
 ],
 "metadata": {
  "kernelspec": {
   "display_name": "Python 3",
   "language": "python",
   "name": "python3"
  },
  "language_info": {
   "codemirror_mode": {
    "name": "ipython",
    "version": 3
   },
   "file_extension": ".py",
   "mimetype": "text/x-python",
   "name": "python",
   "nbconvert_exporter": "python",
   "pygments_lexer": "ipython3",
   "version": "3.8.3"
  }
 },
 "nbformat": 4,
 "nbformat_minor": 4
}
